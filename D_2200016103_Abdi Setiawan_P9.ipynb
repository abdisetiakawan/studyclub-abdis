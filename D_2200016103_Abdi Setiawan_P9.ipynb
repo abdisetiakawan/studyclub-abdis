{
 "cells": [
  {
   "cell_type": "code",
   "execution_count": 7,
   "id": "89d5f78c",
   "metadata": {},
   "outputs": [
    {
     "name": "stdout",
     "output_type": "stream",
     "text": [
      "a + b =  24\n"
     ]
    }
   ],
   "source": [
    "from perhitungan import penjumlahan\n",
    "a = 12\n",
    "b = 12\n",
    "print(\"a + b = \", penjumlahan(a, b))"
   ]
  },
  {
   "cell_type": "code",
   "execution_count": 9,
   "id": "35b3c52c",
   "metadata": {},
   "outputs": [
    {
     "name": "stdout",
     "output_type": "stream",
     "text": [
      "a - b =  4\n"
     ]
    }
   ],
   "source": [
    "from perhitungan import pengurangan\n",
    "a = 12\n",
    "b = 8\n",
    "print(\"a - b = \", pengurangan(a, b))"
   ]
  },
  {
   "cell_type": "code",
   "execution_count": 10,
   "id": "0335ba4d",
   "metadata": {},
   "outputs": [
    {
     "name": "stdout",
     "output_type": "stream",
     "text": [
      "a * b =  24\n"
     ]
    }
   ],
   "source": [
    "from perhitungan import perkalian\n",
    "a = 12\n",
    "b = 2\n",
    "print(\"a * b = \", perkalian(a, b))"
   ]
  },
  {
   "cell_type": "code",
   "execution_count": 11,
   "id": "a11dfaf9",
   "metadata": {},
   "outputs": [
    {
     "name": "stdout",
     "output_type": "stream",
     "text": [
      "a : b =  4.0\n"
     ]
    }
   ],
   "source": [
    "from perhitungan import pembagian\n",
    "a = 12\n",
    "b = 3\n",
    "print(\"a : b = \", pembagian(a, b))"
   ]
  },
  {
   "cell_type": "code",
   "execution_count": 12,
   "id": "ae42efaf",
   "metadata": {},
   "outputs": [
    {
     "name": "stdout",
     "output_type": "stream",
     "text": [
      "{'Biaya Makan': 900000.0, 'Biaya Bensin': 225000.0, 'Biaya Jajan': 150000.0, 'Biaya Jalan-jalan': 225000.0}\n"
     ]
    }
   ],
   "source": [
    "from perhitungan import pembagian_uang_kost_bulanan\n",
    "print(pembagian_uang_kost_bulanan(1500000))"
   ]
  },
  {
   "cell_type": "code",
   "execution_count": null,
   "id": "363dc8f6",
   "metadata": {},
   "outputs": [],
   "source": []
  }
 ],
 "metadata": {
  "kernelspec": {
   "display_name": "Python 3 (ipykernel)",
   "language": "python",
   "name": "python3"
  },
  "language_info": {
   "codemirror_mode": {
    "name": "ipython",
    "version": 3
   },
   "file_extension": ".py",
   "mimetype": "text/x-python",
   "name": "python",
   "nbconvert_exporter": "python",
   "pygments_lexer": "ipython3",
   "version": "3.9.12"
  }
 },
 "nbformat": 4,
 "nbformat_minor": 5
}
