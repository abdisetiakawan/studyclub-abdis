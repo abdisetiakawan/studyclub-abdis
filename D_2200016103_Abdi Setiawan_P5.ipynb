{
 "cells": [
  {
   "cell_type": "code",
   "execution_count": 32,
   "id": "e951a0f1",
   "metadata": {},
   "outputs": [
    {
     "name": "stdout",
     "output_type": "stream",
     "text": [
      "iterasi 5 [2, 3, 4, 5, 6, 78, 98]\n"
     ]
    }
   ],
   "source": [
    "def selectionsort(a):\n",
    "    for i in range(len(a)-1):\n",
    "        min_idx=i\n",
    "        for j in range(i+1, len(a)):\n",
    "            if a[min_idx] > a[j]:\n",
    "                min_idx = j\n",
    "            \n",
    "        temp = a[i]\n",
    "        a[i] = a[min_idx]\n",
    "        a[min_idx] = temp\n",
    "    print(\"iterasi\", i, a)\n",
    "    \n",
    "A=[4,3,5,6,2,78,98]\n",
    "selectionsort(A)"
   ]
  },
  {
   "cell_type": "code",
   "execution_count": 17,
   "id": "44039b41",
   "metadata": {},
   "outputs": [
    {
     "name": "stdout",
     "output_type": "stream",
     "text": [
      "* \n",
      "* * \n",
      "* * * \n",
      "* * * * \n",
      "* * * * * \n",
      "* * * * * * \n"
     ]
    }
   ],
   "source": [
    "for i in range(1,7):\n",
    "    for j in range(1,i+1):\n",
    "        print(\"*\",end=\" \")\n",
    "    print()"
   ]
  },
  {
   "cell_type": "code",
   "execution_count": 37,
   "id": "0055cd63",
   "metadata": {},
   "outputs": [
    {
     "name": "stdout",
     "output_type": "stream",
     "text": [
      "index key ke 0 tukar dengan: 6\n",
      "iterasi 0 [98, 3, 5, 6, 2, 78, 4]\n",
      "index key ke 1 tukar dengan: 5\n",
      "iterasi 1 [98, 78, 5, 6, 2, 3, 4]\n",
      "index key ke 2 tukar dengan: 3\n",
      "iterasi 2 [98, 78, 6, 5, 2, 3, 4]\n",
      "index key ke 3 tukar dengan: 3\n",
      "iterasi 3 [98, 78, 6, 5, 2, 3, 4]\n",
      "index key ke 4 tukar dengan: 6\n",
      "iterasi 4 [98, 78, 6, 5, 4, 3, 2]\n",
      "index key ke 5 tukar dengan: 5\n",
      "iterasi 5 [98, 78, 6, 5, 4, 3, 2]\n"
     ]
    }
   ],
   "source": [
    "def selectionsort(a):\n",
    "    for i in range(len(a)-1):\n",
    "        min_idx=i\n",
    "        for j in range(i+1, len(a)):\n",
    "            if a[min_idx] < a[j]:\n",
    "                min_idx = j\n",
    "          \n",
    "        temp = a[i]\n",
    "        a[i] = a[min_idx]\n",
    "        a[min_idx] = temp\n",
    "        print(\"index key ke\", i, \"tukar dengan:\", min_idx)\n",
    "        print(\"iterasi\", i, a)\n",
    "    \n",
    "    \n",
    "A=[4,3,5,6,2,78,98]\n",
    "selectionsort(A)"
   ]
  },
  {
   "cell_type": "code",
   "execution_count": 2,
   "id": "3959e52d",
   "metadata": {},
   "outputs": [
    {
     "name": "stdout",
     "output_type": "stream",
     "text": [
      "tukar 3 dengan 4\n",
      "urutkan menjadi [3, 4, 5, 6, 2, 78, 98]\n",
      "tukar 2 dengan 6\n",
      "urutkan menjadi [3, 4, 5, 2, 6, 78, 98]\n",
      "tukar 2 dengan 5\n",
      "urutkan menjadi [3, 4, 2, 5, 6, 78, 98]\n",
      "tukar 2 dengan 4\n",
      "urutkan menjadi [3, 2, 4, 5, 6, 78, 98]\n",
      "tukar 2 dengan 3\n",
      "urutkan menjadi [2, 3, 4, 5, 6, 78, 98]\n",
      "[2, 3, 4, 5, 6, 78, 98]\n"
     ]
    }
   ],
   "source": [
    "def bubbleSort(A):\n",
    "    tukar = True\n",
    "    while tukar:\n",
    "        tukar = False\n",
    "        for j in range(len(A)-1):\n",
    "            if A[j] >= A [j+1]:\n",
    "                A[j], A[j+1] = A[j+1], A[j]\n",
    "                tukar = True\n",
    "                print(\"tukar\", A[j], \"dengan\", A[j+1])\n",
    "                print(\"urutkan menjadi\", A)\n",
    "    return A\n",
    "\n",
    "A = [4,3,5,6,2,78,98]\n",
    "print(bubbleSort(A))"
   ]
  }
 ],
 "metadata": {
  "kernelspec": {
   "display_name": "Python 3 (ipykernel)",
   "language": "python",
   "name": "python3"
  },
  "language_info": {
   "codemirror_mode": {
    "name": "ipython",
    "version": 3
   },
   "file_extension": ".py",
   "mimetype": "text/x-python",
   "name": "python",
   "nbconvert_exporter": "python",
   "pygments_lexer": "ipython3",
   "version": "3.9.12"
  }
 },
 "nbformat": 4,
 "nbformat_minor": 5
}
