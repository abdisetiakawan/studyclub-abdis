{
 "cells": [
  {
   "cell_type": "markdown",
   "id": "43eca4e4",
   "metadata": {},
   "source": [
    "## Insertion sort"
   ]
  },
  {
   "cell_type": "code",
   "execution_count": 1,
   "id": "4a899788",
   "metadata": {},
   "outputs": [
    {
     "name": "stdout",
     "output_type": "stream",
     "text": [
      "pergeseran pada iterasi ke 0 j ke : 0 [4, 4, 5, 6, 2, 78, 98]\n",
      "\n",
      "iterasi 0 [3, 4, 5, 6, 2, 78, 98]\n",
      "iterasi 1 [3, 4, 5, 6, 2, 78, 98]\n",
      "iterasi 2 [3, 4, 5, 6, 2, 78, 98]\n",
      "pergeseran pada iterasi ke 3 j ke : 3 [3, 4, 5, 6, 6, 78, 98]\n",
      "\n",
      "pergeseran pada iterasi ke 3 j ke : 2 [3, 4, 5, 5, 6, 78, 98]\n",
      "\n",
      "pergeseran pada iterasi ke 3 j ke : 1 [3, 4, 4, 5, 6, 78, 98]\n",
      "\n",
      "pergeseran pada iterasi ke 3 j ke : 0 [3, 3, 4, 5, 6, 78, 98]\n",
      "\n",
      "iterasi 3 [2, 3, 4, 5, 6, 78, 98]\n",
      "iterasi 4 [2, 3, 4, 5, 6, 78, 98]\n",
      "iterasi 5 [2, 3, 4, 5, 6, 78, 98]\n"
     ]
    }
   ],
   "source": [
    "def insertion_sort(sort_list):\n",
    "    for i in range (1, len(sort_list)):\n",
    "        key = sort_list[i]\n",
    "        j = i - 1\n",
    "        while j >= 0 and key < sort_list[j]:\n",
    "            sort_list[j+1] = sort_list[j]\n",
    "            print(\"pergeseran pada iterasi ke %d j ke: %d\"%(i-1, j), sort_list)\n",
    "            j -= 1\n",
    "        sort_list[j+1] = key\n",
    "        print(\"iterasi\", i-1, sort_list)\n",
    "a = [4,3,5,6,2,78,98]\n",
    "insertion_sort(a)"
   ]
  },
  {
   "cell_type": "code",
   "execution_count": 13,
   "id": "d2256fc6",
   "metadata": {},
   "outputs": [
    {
     "name": "stdout",
     "output_type": "stream",
     "text": [
      "iteration 1 : [2, 5, 4, 6, 1, 3]\n",
      "iteration 2 : [2, 4, 5, 6, 1, 3]\n",
      "iteration 3 : [2, 4, 5, 6, 1, 3]\n",
      "iteration 4 : [1, 2, 4, 5, 6, 3]\n",
      "iteration 5 : [1, 2, 3, 4, 5, 6]\n",
      "[1, 2, 3, 4, 5, 6]\n"
     ]
    }
   ],
   "source": [
    "def insertion_sort(sort_list):\n",
    "    for i in range(1, len(sort_list)):\n",
    "        key = sort_list[i]\n",
    "        j = i - 1\n",
    "        while j >= 0 and key < sort_list[j]:\n",
    "            sort_list[j+1] = sort_list[j]\n",
    "            j -= 1\n",
    "        sort_list[j+1] = key\n",
    "        print(\"iteration\", i, \":\", sort_list)\n",
    "    return sort_list\n",
    "\n",
    "\n",
    "sort_list = [5, 2, 4, 6, 1, 3]\n",
    "sorted_arr = insertion_sort(sort_list)\n",
    "print(sorted_arr)\n"
   ]
  }
 ],
 "metadata": {
  "kernelspec": {
   "display_name": "Python 3 (ipykernel)",
   "language": "python",
   "name": "python3"
  },
  "language_info": {
   "codemirror_mode": {
    "name": "ipython",
    "version": 3
   },
   "file_extension": ".py",
   "mimetype": "text/x-python",
   "name": "python",
   "nbconvert_exporter": "python",
   "pygments_lexer": "ipython3",
   "version": "3.9.12"
  }
 },
 "nbformat": 4,
 "nbformat_minor": 5
}
