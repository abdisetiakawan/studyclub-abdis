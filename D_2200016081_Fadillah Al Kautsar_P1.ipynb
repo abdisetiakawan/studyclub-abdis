{
 "cells": [
  {
   "cell_type": "code",
   "execution_count": 1,
   "id": "5cea11c2",
   "metadata": {},
   "outputs": [
    {
     "data": {
      "text/plain": [
       "7"
      ]
     },
     "execution_count": 1,
     "metadata": {},
     "output_type": "execute_result"
    }
   ],
   "source": [
    "def tambah(a,b):\n",
    "    hasil = a + b\n",
    "    return hasil\n",
    "\n",
    "tambah(2,5)"
   ]
  },
  {
   "cell_type": "code",
   "execution_count": 4,
   "id": "ff329c8c",
   "metadata": {},
   "outputs": [],
   "source": [
    "def luasPP(p,l):\n",
    "    \"menghitung luas persegi panjang\"\n",
    "    luaspanjang = p * l\n",
    "    print(luaspanjang)\n",
    "    return"
   ]
  },
  {
   "cell_type": "code",
   "execution_count": 5,
   "id": "cdd1ef8f",
   "metadata": {},
   "outputs": [
    {
     "name": "stdout",
     "output_type": "stream",
     "text": [
      "12\n"
     ]
    }
   ],
   "source": [
    "A = luasPP(4,3)"
   ]
  },
  {
   "cell_type": "code",
   "execution_count": 6,
   "id": "a85f3e3c",
   "metadata": {},
   "outputs": [],
   "source": [
    "def luasPP(p,l):\n",
    "    \"menghitung luas persegi panjang\"\n",
    "    luaspanjang = p * l\n",
    "    print(luaspanjang)\n",
    "    return luaspanjang"
   ]
  },
  {
   "cell_type": "code",
   "execution_count": 7,
   "id": "585382c3",
   "metadata": {},
   "outputs": [
    {
     "name": "stdout",
     "output_type": "stream",
     "text": [
      "12\n",
      "12\n",
      "36\n"
     ]
    }
   ],
   "source": [
    "A = luasPP(4,3)\n",
    "print(A)\n",
    "S = 3 * int(A)\n",
    "print(S)"
   ]
  },
  {
   "cell_type": "code",
   "execution_count": 8,
   "id": "8c9ee054",
   "metadata": {},
   "outputs": [
    {
     "name": "stdout",
     "output_type": "stream",
     "text": [
      "60\n"
     ]
    },
    {
     "data": {
      "text/plain": [
       "60"
      ]
     },
     "execution_count": 8,
     "metadata": {},
     "output_type": "execute_result"
    }
   ],
   "source": [
    "luasPP(6,10)"
   ]
  },
  {
   "cell_type": "markdown",
   "id": "b5efb03e",
   "metadata": {},
   "source": [
    "# TUGAS"
   ]
  },
  {
   "cell_type": "code",
   "execution_count": 9,
   "id": "971cf8ce",
   "metadata": {},
   "outputs": [
    {
     "name": "stdout",
     "output_type": "stream",
     "text": [
      "\n",
      "==========\n",
      "Selamat datang di pemrograman Python\n",
      "Silahkan pilih angka diantara 1-3\n",
      "1. Luas lingkaran\n",
      "2. Nilai minimum\n",
      "3. Nilai rata-rata\n",
      "==========\n",
      "\n",
      "Masukkan angka 1-3: 1\n",
      "Masukkan jari-jari lingkaran: 20\n",
      "Luas lingkaran adalah: 1256.0\n",
      "1256.0\n"
     ]
    }
   ],
   "source": [
    "def luas_lingkaran():\n",
    "    r = float(input(\"Masukkan jari-jari lingkaran: \"))\n",
    "    luas = 3.14 * (r ** 2)\n",
    "    print(\"Luas lingkaran adalah:\", luas)\n",
    "    return luas\n",
    "def nilai_minim():\n",
    "    input_angka = input(\"Masukkan angka yang dipisahkan oleh spasi: \")\n",
    "    angka_list = input_angka.split()\n",
    "    angka_list = list(map(int, angka_list))\n",
    "    minim = min(angka_list)\n",
    "    return minim\n",
    "def menghitung_rata():\n",
    "    input_angka = input(\"Masukkan angka yang dipisahkan oleh spasi: \")\n",
    "    angka_list = input_angka.split()\n",
    "    angka_list = list(map(int, angka_list))\n",
    "    rata_rata = sum(angka_list) / len(angka_list)\n",
    "    print(\"Nilai rata-rata adalah:\", rata_rata)\n",
    "    return rata_rata\n",
    "\n",
    "\n",
    "print()\n",
    "print(\"=\"*10)\n",
    "print(\"\"\"Selamat datang di pemrograman Python\n",
    "Silahkan pilih angka diantara 1-3\n",
    "1. Luas lingkaran\n",
    "2. Nilai minimum\n",
    "3. Nilai rata-rata\"\"\")\n",
    "print(\"=\"*10)\n",
    "print()\n",
    "\n",
    "p = input(\"Masukkan angka 1-3: \")\n",
    "if p == \"1\":\n",
    "    print(luas_lingkaran())\n",
    "elif p == \"2\":\n",
    "    print(\"nilai paling kecil adalah: \", nilai_minimum())\n",
    "elif p == \"3\":\n",
    "    print(menghitung_rata())\n",
    "else:\n",
    "    print(\"Pilihan tidak tepat\")"
   ]
  },
  {
   "cell_type": "code",
   "execution_count": null,
   "id": "2c2a22ea",
   "metadata": {},
   "outputs": [],
   "source": []
  }
 ],
 "metadata": {
  "kernelspec": {
   "display_name": "Python 3 (ipykernel)",
   "language": "python",
   "name": "python3"
  },
  "language_info": {
   "codemirror_mode": {
    "name": "ipython",
    "version": 3
   },
   "file_extension": ".py",
   "mimetype": "text/x-python",
   "name": "python",
   "nbconvert_exporter": "python",
   "pygments_lexer": "ipython3",
   "version": "3.9.12"
  }
 },
 "nbformat": 4,
 "nbformat_minor": 5
}
