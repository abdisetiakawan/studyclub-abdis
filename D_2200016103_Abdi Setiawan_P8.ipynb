{
 "cells": [
  {
   "cell_type": "code",
   "execution_count": 3,
   "id": "49dd3468",
   "metadata": {},
   "outputs": [
    {
     "data": {
      "text/plain": [
       "24"
      ]
     },
     "execution_count": 3,
     "metadata": {},
     "output_type": "execute_result"
    }
   ],
   "source": [
    "def factorial(n):\n",
    "    if n == 0:\n",
    "        return 1\n",
    "    else:\n",
    "        return n * factorial(n-1)\n",
    "factorial(4)"
   ]
  },
  {
   "cell_type": "code",
   "execution_count": 35,
   "id": "55a2ea23",
   "metadata": {},
   "outputs": [
    {
     "name": "stdout",
     "output_type": "stream",
     "text": [
      "Masukkan jumlah angka Fibonacci yang ingin dicetak: 12\n",
      "0 1 1 2 3 5 8 13 21 34 55 89 \n",
      "Jumlah perulangan: 12\n"
     ]
    }
   ],
   "source": [
    "def fibonacci(n):\n",
    "    a, b = 0, 1\n",
    "    count = 0\n",
    "    for i in range(n):\n",
    "        print(a, end=' ')\n",
    "        a, b = b, a + b\n",
    "        count += 1\n",
    "    return count\n",
    "\n",
    "n = int(input(\"Masukkan jumlah angka Fibonacci yang ingin dicetak: \"))\n",
    "count = fibonacci(n)\n",
    "print(\"\\nJumlah perulangan:\", count)"
   ]
  },
  {
   "cell_type": "code",
   "execution_count": 2,
   "id": "018035f0",
   "metadata": {},
   "outputs": [
    {
     "data": {
      "text/plain": [
       "144"
      ]
     },
     "execution_count": 2,
     "metadata": {},
     "output_type": "execute_result"
    }
   ],
   "source": [
    "def fib(n):\n",
    "    if n==0:\n",
    "        return 0\n",
    "    elif n==1:\n",
    "        return 1\n",
    "    else:\n",
    "        return (fib(n-1)+fib(n-2))\n",
    "fib(12)"
   ]
  },
  {
   "cell_type": "markdown",
   "id": "0cb37f85",
   "metadata": {},
   "source": [
    "# TUGAS"
   ]
  },
  {
   "cell_type": "code",
   "execution_count": 1,
   "id": "339f6373",
   "metadata": {},
   "outputs": [
    {
     "name": "stdout",
     "output_type": "stream",
     "text": [
      "Masukkan nilai x: 0\n",
      "2^0 = 1\n"
     ]
    }
   ],
   "source": [
    "def duapangkatxrekursi(x):\n",
    "    if x == 0:\n",
    "        return 1\n",
    "    else:\n",
    "        return 2 * duapangkatxrekursi(x - 1)\n",
    "x = int(input(\"Masukkan nilai x: \"))\n",
    "result = duapangkatxrekursi(x)\n",
    "print(f\"2^{x} = {result}\")"
   ]
  },
  {
   "cell_type": "code",
   "execution_count": 21,
   "id": "96a30f3a",
   "metadata": {},
   "outputs": [
    {
     "name": "stdout",
     "output_type": "stream",
     "text": [
      "Masukkan nilai x: 12\n",
      "2^12 = 4096\n"
     ]
    }
   ],
   "source": [
    "def duapangkatxperulangan(x):\n",
    "    result = 1\n",
    "    for i in range(x):\n",
    "        result *= 2\n",
    "    return result\n",
    "x = int(input(\"Masukkan nilai x: \"))\n",
    "result = duapangkatxperulangan(x)\n",
    "print(f\"2^{x} = {result}\")"
   ]
  },
  {
   "cell_type": "code",
   "execution_count": 13,
   "id": "0e383a1d",
   "metadata": {},
   "outputs": [
    {
     "data": {
      "text/plain": [
       "144"
      ]
     },
     "execution_count": 13,
     "metadata": {},
     "output_type": "execute_result"
    }
   ],
   "source": [
    "def fibonacifor(n):\n",
    "    fib0 = 0\n",
    "    fib1 = 1\n",
    "    for i in range (2, n+1):\n",
    "        fib_n = fib0 + fib1\n",
    "        fib0  = fib1\n",
    "        fib1  = fib_n\n",
    "    return fib_n\n",
    "\n",
    "fibonacifor(12)"
   ]
  },
  {
   "cell_type": "code",
   "execution_count": 17,
   "id": "de149e66",
   "metadata": {},
   "outputs": [
    {
     "data": {
      "text/plain": [
       "144"
      ]
     },
     "execution_count": 17,
     "metadata": {},
     "output_type": "execute_result"
    }
   ],
   "source": [
    "def fibonaciwhile(n):\n",
    "    fib0 = 0\n",
    "    fib1 = 1\n",
    "    i = 2\n",
    "    while i <= n:\n",
    "        fib_n = fib0 + fib1\n",
    "        fib0  = fib1\n",
    "        fib1  = fib_n\n",
    "        i += 1\n",
    "    return fib_n\n",
    "\n",
    "fibonaciwhile(12)"
   ]
  }
 ],
 "metadata": {
  "kernelspec": {
   "display_name": "Python 3 (ipykernel)",
   "language": "python",
   "name": "python3"
  },
  "language_info": {
   "codemirror_mode": {
    "name": "ipython",
    "version": 3
   },
   "file_extension": ".py",
   "mimetype": "text/x-python",
   "name": "python",
   "nbconvert_exporter": "python",
   "pygments_lexer": "ipython3",
   "version": "3.9.12"
  }
 },
 "nbformat": 4,
 "nbformat_minor": 5
}
