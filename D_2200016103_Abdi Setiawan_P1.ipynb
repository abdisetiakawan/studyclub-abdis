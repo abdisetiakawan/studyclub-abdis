{
 "cells": [
  {
   "cell_type": "code",
   "execution_count": 1,
   "id": "50316c1d",
   "metadata": {},
   "outputs": [
    {
     "data": {
      "text/plain": [
       "7"
      ]
     },
     "execution_count": 1,
     "metadata": {},
     "output_type": "execute_result"
    }
   ],
   "source": [
    "def tambah(a,b):\n",
    "    hasil = a + b\n",
    "    return hasil\n",
    "\n",
    "tambah(2,5)"
   ]
  },
  {
   "cell_type": "code",
   "execution_count": 2,
   "id": "967c562e",
   "metadata": {},
   "outputs": [],
   "source": [
    "def luasPP(p,l):\n",
    "    \"menghitung luas persegi panjang\"\n",
    "    luaspanjang = p * l\n",
    "    print(luaspanjang)\n",
    "    return"
   ]
  },
  {
   "cell_type": "code",
   "execution_count": 5,
   "id": "c3f897db",
   "metadata": {},
   "outputs": [
    {
     "name": "stdout",
     "output_type": "stream",
     "text": [
      "12\n"
     ]
    }
   ],
   "source": [
    "A = luasPP(4,3)"
   ]
  },
  {
   "cell_type": "code",
   "execution_count": 6,
   "id": "68143124",
   "metadata": {},
   "outputs": [
    {
     "data": {
      "text/plain": [
       "NoneType"
      ]
     },
     "execution_count": 6,
     "metadata": {},
     "output_type": "execute_result"
    }
   ],
   "source": [
    "type(A)"
   ]
  },
  {
   "cell_type": "code",
   "execution_count": 14,
   "id": "cc8ed900",
   "metadata": {},
   "outputs": [],
   "source": [
    "def luasPP(p,l):\n",
    "    \"menghitung luas persegi panjang\"\n",
    "    luaspanjang = p * l\n",
    "    print(luaspanjang)\n",
    "    return luaspanjang"
   ]
  },
  {
   "cell_type": "code",
   "execution_count": 15,
   "id": "f0d45955",
   "metadata": {},
   "outputs": [
    {
     "name": "stdout",
     "output_type": "stream",
     "text": [
      "12\n",
      "12\n",
      "36\n"
     ]
    }
   ],
   "source": [
    "A = luasPP(4,3)\n",
    "print(A)\n",
    "S = 3 * int(A)\n",
    "print(S)"
   ]
  },
  {
   "cell_type": "code",
   "execution_count": 17,
   "id": "fd1f41e5",
   "metadata": {},
   "outputs": [
    {
     "data": {
      "text/plain": [
       "int"
      ]
     },
     "execution_count": 17,
     "metadata": {},
     "output_type": "execute_result"
    }
   ],
   "source": [
    "type(A)"
   ]
  },
  {
   "cell_type": "code",
   "execution_count": 18,
   "id": "3133ade2",
   "metadata": {},
   "outputs": [
    {
     "name": "stdout",
     "output_type": "stream",
     "text": [
      "72\n"
     ]
    },
    {
     "data": {
      "text/plain": [
       "72"
      ]
     },
     "execution_count": 18,
     "metadata": {},
     "output_type": "execute_result"
    }
   ],
   "source": [
    "luasPP(8,9)"
   ]
  },
  {
   "cell_type": "code",
   "execution_count": 20,
   "id": "1e98bbae",
   "metadata": {},
   "outputs": [
    {
     "name": "stdout",
     "output_type": "stream",
     "text": [
      "Temprature converter - main menu\n",
      "Masukkan suhu: 50\n",
      "Dalam skala apa Anda mengukur suhu? (C/F): C\n",
      "50.0 derajat Celsius = 122.0 derajat Fahrenheit\n"
     ]
    }
   ],
   "source": [
    "def celsius_to_fahrenheit(celsius):\n",
    "    fahrenheit = (celsius * 9/5) + 32\n",
    "    return fahrenheit\n",
    "\n",
    "def fahrenheit_to_celsius(fahrenheit):\n",
    "    celsius = (fahrenheit - 32) * 5/9\n",
    "    return celsius\n",
    "\n",
    "# Input suhu dalam Celcius atau Fahrenheit\n",
    "\n",
    "print(\"Temprature converter - main menu\")\n",
    "suhu = float(input(\"Masukkan suhu: \"))\n",
    "skala = input(\"Dalam skala apa Anda mengukur suhu? (C/F): \")\n",
    "\n",
    "if skala.upper() == \"C\":\n",
    "    fahrenheit = celsius_to_fahrenheit(suhu)\n",
    "    print(f\"{suhu} derajat Celsius = {fahrenheit} derajat Fahrenheit\")\n",
    "elif skala.upper() == \"F\":\n",
    "    celsius = fahrenheit_to_celsius(suhu)\n",
    "    print(f\"{suhu} derajat Fahrenheit = {celsius} derajat Celsius\")\n",
    "else:\n",
    "    print(\"Input tidak valid. Harap masukkan C atau F sebagai skala.\")\n"
   ]
  },
  {
   "cell_type": "code",
   "execution_count": 23,
   "id": "bc721192",
   "metadata": {},
   "outputs": [
    {
     "name": "stdout",
     "output_type": "stream",
     "text": [
      "Temprature converter - main menu\n",
      "C. mengubah celcius ke fahrenheit\n",
      "F. mengubah fahrenheit ke celcius\n",
      "Dalam skala apa Anda mengukur suhu? (C/F): C\n",
      "Masukkan suhu: 123\n",
      "123.0 derajat Celsius = 253.4 derajat Fahrenheit\n"
     ]
    }
   ],
   "source": [
    "def celsius_to_fahrenheit(celsius):\n",
    "    fahrenheit = (celsius * 9/5) + 32\n",
    "    return fahrenheit\n",
    "\n",
    "def fahrenheit_to_celsius(fahrenheit):\n",
    "    celsius = (fahrenheit - 32) * 5/9\n",
    "    return celsius\n",
    "\n",
    "# Input suhu dalam Celcius atau Fahrenheit\n",
    "\n",
    "print(\"Temprature converter - main menu\")\n",
    "print(\"C. mengubah celcius ke fahrenheit\")\n",
    "print(\"F. mengubah fahrenheit ke celcius\")\n",
    "\n",
    "skala = input(\"Dalam skala apa Anda mengukur suhu? (C/F): \")\n",
    "suhu = float(input(\"Masukkan suhu: \"))\n",
    "if skala.upper() == \"C\":\n",
    "    fahrenheit = celsius_to_fahrenheit(suhu)\n",
    "    print(f\"{suhu} derajat Celsius = {fahrenheit} derajat Fahrenheit\")\n",
    "elif skala.upper() == \"F\":\n",
    "    celsius = fahrenheit_to_celsius(suhu)\n",
    "    print(f\"{suhu} derajat Fahrenheit = {celsius} derajat Celsius\")\n",
    "else:\n",
    "    print(\"Input tidak valid. Harap masukkan C atau F sebagai skala.\")\n",
    "\n"
   ]
  },
  {
   "cell_type": "markdown",
   "id": "2066f073",
   "metadata": {},
   "source": [
    "## Tugas praktikum pertemuan pertama"
   ]
  },
  {
   "cell_type": "code",
   "execution_count": 2,
   "id": "675ce119",
   "metadata": {},
   "outputs": [
    {
     "name": "stdout",
     "output_type": "stream",
     "text": [
      "\n",
      "==========\n",
      "Selamat datang di pemrograman Python\n",
      "Silahkan pilih diantara 1-3 fungsi ini\n",
      "1. Luas lingkaran\n",
      "2. Nilai minimum\n",
      "3. Nilai rata-rata\n",
      "==========\n",
      "\n",
      "Masukkan pilihan anda 1-3: 3\n",
      "Masukkan beberapa angka yang dipisahkan oleh spasi: 12 5 5 44\n",
      "Nilai rata-rata adalah: 16.5\n",
      "16.5\n"
     ]
    }
   ],
   "source": [
    "def luaslingkaran():\n",
    "    r = float(input(\"Masukkan jari-jari lingkaran: \"))\n",
    "    luas = 3.14 * (r ** 2)\n",
    "    print(\"Luas lingkaran adalah:\", luas)\n",
    "    return luas\n",
    "def nilaiminimum():\n",
    "    input_angka = input(\"Masukkan beberapa angka yang dipisahkan oleh spasi: \")\n",
    "    angka_list = input_angka.split()\n",
    "    angka_list = list(map(int, angka_list))\n",
    "    minimum = min(angka_list)\n",
    "    return minimum\n",
    "def menghitungrata():\n",
    "    input_angka = input(\"Masukkan beberapa angka yang dipisahkan oleh spasi: \")\n",
    "    angka_list = input_angka.split()\n",
    "    angka_list = list(map(int, angka_list))\n",
    "    rata_rata = sum(angka_list) / len(angka_list)\n",
    "    print(\"Nilai rata-rata adalah:\", rata_rata)\n",
    "    return rata_rata\n",
    "\n",
    "\n",
    "print()\n",
    "print(\"=\"*10)\n",
    "print(\"\"\"Selamat datang di pemrograman Python\n",
    "Silahkan pilih diantara 1-3 fungsi ini\n",
    "1. Luas lingkaran\n",
    "2. Nilai minimum\n",
    "3. Nilai rata-rata\"\"\")\n",
    "print(\"=\"*10)\n",
    "print()\n",
    "\n",
    "pil = input(\"Masukkan pilihan anda 1-3: \")\n",
    "if pil == \"1\":\n",
    "    print(luaslingkaran())\n",
    "elif pil == \"2\":\n",
    "    print(\"nilai paling kecil adalah: \", nilaiminimum())\n",
    "elif pil == \"3\":\n",
    "    print(menghitungrata())\n",
    "else:\n",
    "    print(\"Pilihan anda tidak tepat\")"
   ]
  },
  {
   "cell_type": "code",
   "execution_count": null,
   "id": "5cb87dae",
   "metadata": {},
   "outputs": [],
   "source": []
  }
 ],
 "metadata": {
  "kernelspec": {
   "display_name": "Python 3 (ipykernel)",
   "language": "python",
   "name": "python3"
  },
  "language_info": {
   "codemirror_mode": {
    "name": "ipython",
    "version": 3
   },
   "file_extension": ".py",
   "mimetype": "text/x-python",
   "name": "python",
   "nbconvert_exporter": "python",
   "pygments_lexer": "ipython3",
   "version": "3.9.12"
  }
 },
 "nbformat": 4,
 "nbformat_minor": 5
}
