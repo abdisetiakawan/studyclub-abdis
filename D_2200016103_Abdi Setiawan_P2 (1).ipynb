{
 "cells": [
  {
   "cell_type": "markdown",
   "id": "51502ac5",
   "metadata": {},
   "source": [
    "# Disarankan menjalankan kode pemrograman ini menggunakan Vscode, karna di Anaconda tidak bisa dijalankan"
   ]
  },
  {
   "cell_type": "code",
   "execution_count": null,
   "id": "53a75a8a",
   "metadata": {},
   "outputs": [],
   "source": [
    "from IPython.display import clear_output\n",
    "buku = []\n",
    "k1 = 1;\n",
    "\n",
    "def show_data():\n",
    "    if len(buku) <= 0:\n",
    "        print(\" Belum ada data \")\n",
    "    else:\n",
    "        for indeks in buku:\n",
    "            print(indeks)\n",
    "\n",
    "def insert_data():\n",
    "    buku_baru = input(\"Judul buku: \")\n",
    "    buku.append(buku_baru)\n",
    "    \n",
    "def edit_data():\n",
    "    show_data()\n",
    "    indeks = int(input(\"Masukkan ID buku: \"))\n",
    "    if(indeks > len(buku)):\n",
    "        print(\"ID salah\")\n",
    "    else:\n",
    "        judul_baru = input(\"Judul baru: \")\n",
    "        buku[indeks] = judul_baru\n",
    "\n",
    "def delete_data():\n",
    "    show_data()\n",
    "    indeks = int(input(\"Inputkan ID buku: \"))\n",
    "    if(indeks > len(buku)):\n",
    "        print(\" ID salah \")\n",
    "    else:\n",
    "        buku.remove(buku[indeks])\n",
    "\n",
    "def show_menu():\n",
    "    Tr=1\n",
    "    print(\"\\n\")\n",
    "    print(\"++++++++++ Menu +++++++++++\")\n",
    "    print(\"[1] Show data\")\n",
    "    print(\"[2] Insert data\")\n",
    "    print(\"[3] Edit data\")\n",
    "    print(\"[4] Delete data\")\n",
    "    print(\"[5] Exit\")\n",
    "    \n",
    "    menu = int(input(\"Pilih Menu : \"))\n",
    "    print(\"\\n\")\n",
    "    clear_output(wait=True)\n",
    "    if (menu == 1):\n",
    "        show_data()\n",
    "    elif (menu == 2):\n",
    "        insert_data()\n",
    "    elif (menu == 3):\n",
    "        edit_data()\n",
    "    elif (menu == 4):\n",
    "        delete_data()\n",
    "    elif (menu == 5):\n",
    "        Tr=0;\n",
    "    else:\n",
    "        print(\"Salah Pilih!\")\n",
    "    return Tr\n",
    "\n",
    "if __name__ == \"__main__\":\n",
    "    Tr=1\n",
    "    while(Tr==1):\n",
    "        Tr=show_menu()\n",
    "        clear_output(wait=True)"
   ]
  },
  {
   "cell_type": "code",
   "execution_count": null,
   "id": "516b2141",
   "metadata": {},
   "outputs": [],
   "source": []
  }
 ],
 "metadata": {
  "kernelspec": {
   "display_name": "Python 3 (ipykernel)",
   "language": "python",
   "name": "python3"
  },
  "language_info": {
   "codemirror_mode": {
    "name": "ipython",
    "version": 3
   },
   "file_extension": ".py",
   "mimetype": "text/x-python",
   "name": "python",
   "nbconvert_exporter": "python",
   "pygments_lexer": "ipython3",
   "version": "3.9.12"
  }
 },
 "nbformat": 4,
 "nbformat_minor": 5
}
