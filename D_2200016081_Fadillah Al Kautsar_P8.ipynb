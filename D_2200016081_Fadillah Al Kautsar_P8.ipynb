{
 "cells": [
  {
   "cell_type": "code",
   "execution_count": 1,
   "id": "ffdf28ca",
   "metadata": {},
   "outputs": [
    {
     "name": "stdout",
     "output_type": "stream",
     "text": [
      "24\n"
     ]
    }
   ],
   "source": [
    "def factorial(n):\n",
    "    if n == 0:\n",
    "        return 1\n",
    "    else:\n",
    "        return n * factorial(n-1)\n",
    "    \n",
    "print(factorial(4))"
   ]
  },
  {
   "cell_type": "code",
   "execution_count": 2,
   "id": "80ca5fbf",
   "metadata": {},
   "outputs": [
    {
     "name": "stdout",
     "output_type": "stream",
     "text": [
      "menghitung factorial((n))...\n",
      "menghitung factorial((n))...\n",
      "menghitung factorial((n))...\n",
      "menghitung factorial((n))...\n",
      "base case tercapai. n = 0\n",
      "factorial(1) = 1 * factorial(0) = 1\n",
      "factorial(2) = 2 * factorial(1) = 2\n",
      "factorial(3) = 3 * factorial(2) = 6\n",
      "factorial(4) = 4 * factorial(3) = 24\n"
     ]
    },
    {
     "data": {
      "text/plain": [
       "24"
      ]
     },
     "execution_count": 2,
     "metadata": {},
     "output_type": "execute_result"
    }
   ],
   "source": [
    "def factorial(n):\n",
    "        #base case\n",
    "    if n == 0:\n",
    "        print(f'base case tercapai. n = {n}')\n",
    "        return 1\n",
    "    else: \n",
    "        print(f'menghitung factorial((n))...')\n",
    "        #recursive call\n",
    "        result = n * factorial(n-1)\n",
    "        print(f'factorial({n}) = {n} * factorial({n-1}) = {result}')\n",
    "        return result\n",
    "        \n",
    "factorial(4)"
   ]
  },
  {
   "cell_type": "code",
   "execution_count": 3,
   "id": "6077254e",
   "metadata": {},
   "outputs": [
    {
     "name": "stdout",
     "output_type": "stream",
     "text": [
      "Masukkan jumlah angka Fibonacci yang ingin dicetak: 10\n",
      "0 1 1 2 3 5 8 13 21 34 \n",
      "Jumlah perulangan: 10\n"
     ]
    }
   ],
   "source": [
    "def fibonacci(n):\n",
    "    a, b = 0, 1\n",
    "    count = 0\n",
    "    for i in range(n):\n",
    "        print(a, end=' ')\n",
    "        a, b = b, a + b\n",
    "        count += 1\n",
    "    return count\n",
    "\n",
    "n = int(input(\"Masukkan jumlah angka Fibonacci yang ingin dicetak: \"))\n",
    "count = fibonacci(n)\n",
    "print(\"\\nJumlah perulangan:\", count)"
   ]
  },
  {
   "cell_type": "code",
   "execution_count": 4,
   "id": "92749acb",
   "metadata": {},
   "outputs": [
    {
     "data": {
      "text/plain": [
       "144"
      ]
     },
     "execution_count": 4,
     "metadata": {},
     "output_type": "execute_result"
    }
   ],
   "source": [
    "def fib(n):\n",
    "    if n==0:\n",
    "        return 0\n",
    "    elif n==1:\n",
    "        return 1\n",
    "    else:\n",
    "        return (fib(n-1)+fib(n-2))\n",
    "fib(12)"
   ]
  },
  {
   "cell_type": "markdown",
   "id": "37be47ba",
   "metadata": {},
   "source": [
    "# TUGAS"
   ]
  },
  {
   "cell_type": "code",
   "execution_count": 5,
   "id": "be738727",
   "metadata": {},
   "outputs": [
    {
     "name": "stdout",
     "output_type": "stream",
     "text": [
      "Masukkan nilai x: 5\n",
      "2^5 = 32\n"
     ]
    }
   ],
   "source": [
    "def duapangkatxrekursi(x):\n",
    "    if x == 0:\n",
    "        return 1\n",
    "    else:\n",
    "        return 2 * duapangkatxrekursi(x - 1)\n",
    "x = int(input(\"Masukkan nilai x: \"))\n",
    "result = duapangkatxrekursi(x)\n",
    "print(f\"2^{x} = {result}\")"
   ]
  },
  {
   "cell_type": "code",
   "execution_count": 7,
   "id": "00dfaae0",
   "metadata": {},
   "outputs": [
    {
     "data": {
      "text/plain": [
       "144"
      ]
     },
     "execution_count": 7,
     "metadata": {},
     "output_type": "execute_result"
    }
   ],
   "source": [
    "def forfibonaci(n):\n",
    "    fib0 = 0\n",
    "    fib1 = 1\n",
    "    for i in range (2, n+1):\n",
    "        fibn = fib0 + fib1\n",
    "        fib0  = fib1\n",
    "        fib1  = fibn\n",
    "    return fibn\n",
    "\n",
    "forfibonaci(12)"
   ]
  },
  {
   "cell_type": "code",
   "execution_count": 9,
   "id": "a36f3950",
   "metadata": {},
   "outputs": [
    {
     "data": {
      "text/plain": [
       "144"
      ]
     },
     "execution_count": 9,
     "metadata": {},
     "output_type": "execute_result"
    }
   ],
   "source": [
    "def whilefibonaci(n):\n",
    "    fib0 = 0\n",
    "    fib1 = 1\n",
    "    i = 2\n",
    "    while i <= n:\n",
    "        fibn = fib0 + fib1\n",
    "        fib0  = fib1\n",
    "        fib1  = fibn\n",
    "        i += 1\n",
    "    return fibn\n",
    "\n",
    "whilefibonaci(12)"
   ]
  },
  {
   "cell_type": "code",
   "execution_count": null,
   "id": "5ac6957e",
   "metadata": {},
   "outputs": [],
   "source": []
  }
 ],
 "metadata": {
  "kernelspec": {
   "display_name": "Python 3 (ipykernel)",
   "language": "python",
   "name": "python3"
  },
  "language_info": {
   "codemirror_mode": {
    "name": "ipython",
    "version": 3
   },
   "file_extension": ".py",
   "mimetype": "text/x-python",
   "name": "python",
   "nbconvert_exporter": "python",
   "pygments_lexer": "ipython3",
   "version": "3.9.12"
  }
 },
 "nbformat": 4,
 "nbformat_minor": 5
}
