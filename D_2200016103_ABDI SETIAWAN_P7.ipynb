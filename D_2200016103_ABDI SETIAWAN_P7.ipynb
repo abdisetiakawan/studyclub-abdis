{
 "cells": [
  {
   "cell_type": "code",
   "execution_count": 4,
   "id": "5a6be42f",
   "metadata": {},
   "outputs": [
    {
     "name": "stdout",
     "output_type": "stream",
     "text": [
      "61 2  41 81 81 81 78 41 9  10 \n",
      "11 12 13 14 2  59 17 92 19 20 \n",
      "46 22 54 13 10 26 27 28 63 30 \n",
      "54 32 54 34 85 36 74 54 85 40 \n",
      "41 61 10 85 55 85 47 48 12 50 \n",
      "51 52 46 54 55 36 36 6  26 60 \n",
      "17 62 63 77 78 66 87 50 69 70 \n",
      "78 88 48 68 75 48 9  98 98 80 \n",
      "81 69 26 19 85 86 87 9  39 90 \n",
      "50 92 10 100 95 40 50 98 99 100 \n"
     ]
    }
   ],
   "source": [
    "import random\n",
    "def shuffle(array):\n",
    "    for i in range(0,9):\n",
    "        for j in range(0,9):\n",
    "            k = random.randint(0,9)\n",
    "            i = random.randint(0,9)\n",
    "            temp = array[k][i]\n",
    "            array[i][j] = array[k][i]\n",
    "            array[k][i] = temp\n",
    "            \n",
    "array = []\n",
    "\n",
    "counter = 1\n",
    "for i in range(0,10):\n",
    "    array.append([])\n",
    "    for j in range(0,10):\n",
    "        array[i].append(counter)\n",
    "        counter+= 1\n",
    "\n",
    "shuffle(array)\n",
    "\n",
    "for i in range(0,10):\n",
    "    line = \"\"\n",
    "    for j in range(0,10):\n",
    "        line = line + str(array[i][j]) + \" \"\n",
    "        if array[i][j]<10:\n",
    "            line = line + \" \"  # Add an extra space for single-digit numbers\n",
    "    print(line)"
   ]
  },
  {
   "cell_type": "code",
   "execution_count": 6,
   "id": "ea25e2c9",
   "metadata": {},
   "outputs": [
    {
     "name": "stdout",
     "output_type": "stream",
     "text": [
      "Min:  1\n",
      "Median:  2\n",
      "Modus:  [2]\n"
     ]
    },
    {
     "data": {
      "text/plain": [
       "[2]"
      ]
     },
     "execution_count": 6,
     "metadata": {},
     "output_type": "execute_result"
    }
   ],
   "source": [
    "array = [3,4,5,2,1,3,2,2,2,2,3]\n",
    "\n",
    "def minimum(arr):\n",
    "    min_val = arr[0]\n",
    "    for i in range(1, len(arr)):\n",
    "        if arr[i] < min_val:\n",
    "            min_val = arr[i]\n",
    "    print(\"Min: \", min_val)\n",
    "    \n",
    "def median(arr):\n",
    "    sorted_arr = sorted(arr)\n",
    "    n = len(sorted_arr)\n",
    "    if n % 2 == 1:\n",
    "        median_val = sorted_arr[n//2]\n",
    "    else:\n",
    "        median_val = (sorted_arr(n//2)-1) + sorted_arr[n//2]/2\n",
    "    print(\"Median: \", median_val)\n",
    "    \n",
    "def modus(arr):\n",
    "    freq = {}\n",
    "    for num in arr:\n",
    "        if num in freq:\n",
    "            freq[num] += 1\n",
    "        else:\n",
    "            freq[num] = 1\n",
    "    max_freq = max(freq.values())\n",
    "    modus_val = [num for num, f in freq.items() if f == max_freq]\n",
    "    print(\"Modus: \", modus_val)\n",
    "    return modus_val\n",
    "\n",
    "minimum(array)\n",
    "median(array)\n",
    "modus(array)"
   ]
  },
  {
   "cell_type": "code",
   "execution_count": 13,
   "id": "65bb7994",
   "metadata": {},
   "outputs": [],
   "source": [
    "def menu():\n",
    "    print('konveksi radian atau derajat')\n",
    "    print('Pilih radian atau derajat')\n",
    "    print('A. Radian')\n",
    "    print('B. Derajatt')\n",
    "    print('X. keluar')\n",
    "    pilih = input(\"masukan A,B, atau X : \")\n",
    "    while pilih not in ['A', 'B', 'X']:\n",
    "        print('invalid option, coba lagi')\n",
    "        print('\\n')\n",
    "        pilih=str(input('masukan A,B, atau X : '))\n",
    "    return pilih\n",
    "\n",
    "    "
   ]
  },
  {
   "cell_type": "code",
   "execution_count": 14,
   "id": "657ad749",
   "metadata": {},
   "outputs": [],
   "source": [
    "def CRD():\n",
    "    radian = float(input('masukan sudut radian :'))\n",
    "    deg = radian*180/3.14159\n",
    "    print('sudut dalam derajat: ', deg)\n",
    "    \n",
    "\n",
    "def CRD():\n",
    "    derajat = float(input('masukan sudut derajat :'))\n",
    "    rad = derajat*3.14159/180\n",
    "    print('sudut dalam radian: ', rad)\n",
    "    \n",
    "    "
   ]
  },
  {
   "cell_type": "code",
   "execution_count": 15,
   "id": "66a1f13c",
   "metadata": {},
   "outputs": [],
   "source": [
    "def main ():\n",
    "    status = True\n",
    "    while status ==True:\n",
    "        option=menu()\n",
    "        if option =='A':\n",
    "            CRD()\n",
    "        elif option =='B':\n",
    "            CRD()\n",
    "        else:\n",
    "            status=False\n",
    "        print(\"Terima Kasih\")"
   ]
  },
  {
   "cell_type": "code",
   "execution_count": null,
   "id": "62eb7f17",
   "metadata": {},
   "outputs": [
    {
     "name": "stdout",
     "output_type": "stream",
     "text": [
      "konveksi radian atau derajat\n",
      "Pilih radian atau derajat\n",
      "A. Radian\n",
      "B. Derajatt\n",
      "X. keluar\n",
      "masukan A,B, atau X : A\n",
      "masukan sudut derajat :2\n",
      "sudut dalam radian:  0.03490655555555555\n",
      "Terima Kasih\n",
      "konveksi radian atau derajat\n",
      "Pilih radian atau derajat\n",
      "A. Radian\n",
      "B. Derajatt\n",
      "X. keluar\n"
     ]
    }
   ],
   "source": [
    "main()"
   ]
  },
  {
   "cell_type": "code",
   "execution_count": null,
   "id": "0a4dd1c7",
   "metadata": {},
   "outputs": [],
   "source": []
  }
 ],
 "metadata": {
  "kernelspec": {
   "display_name": "Python 3 (ipykernel)",
   "language": "python",
   "name": "python3"
  },
  "language_info": {
   "codemirror_mode": {
    "name": "ipython",
    "version": 3
   },
   "file_extension": ".py",
   "mimetype": "text/x-python",
   "name": "python",
   "nbconvert_exporter": "python",
   "pygments_lexer": "ipython3",
   "version": "3.9.12"
  }
 },
 "nbformat": 4,
 "nbformat_minor": 5
}
