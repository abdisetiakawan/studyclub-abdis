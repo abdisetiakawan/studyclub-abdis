{
 "cells": [
  {
   "cell_type": "code",
   "execution_count": 7,
   "id": "49618785",
   "metadata": {},
   "outputs": [
    {
     "name": "stdout",
     "output_type": "stream",
     "text": [
      "Amar\n"
     ]
    }
   ],
   "source": [
    "def binsearch(data,key):\n",
    "    awal = 1\n",
    "    akhir = len(data)+1\n",
    "    ketemu = False\n",
    "    hitung = 0\n",
    "    while (awal <= akhir) and not ketemu:\n",
    "        hitung += 1\n",
    "        tengah = int((awal+akhir)/2)\n",
    "        if key == data[tengah]:\n",
    "            ketemu = True\n",
    "            print(\"data\", key,\"ditemukan di indeks ke\", tengah)\n",
    "        elif (key<data[tengah]):\n",
    "            akhir = tengah - 1\n",
    "        else:\n",
    "            awal = tengah + 1\n",
    "    if ketemu == False:\n",
    "        print(\"data tidak ditemukan\")\n",
    "    print(\"Jumlah iterasi yang diperlukan:\", hitung)"
   ]
  },
  {
   "cell_type": "code",
   "execution_count": 8,
   "id": "5df7008f",
   "metadata": {},
   "outputs": [
    {
     "name": "stdout",
     "output_type": "stream",
     "text": [
      "Fadil Akmal Ronaldo Amar Messi Neymar Abdi Setiawan "
     ]
    }
   ],
   "source": [
    "nama = [\"Fadil\", \"Akmal\", \"Ronaldo\", \"Amar\", \"Messi\", \"Neymar\", \"Abdi Setiawan\"]\n",
    "for teman in nama:\n",
    "    print(teman, end=' ')"
   ]
  },
  {
   "cell_type": "code",
   "execution_count": 9,
   "id": "e6872a52",
   "metadata": {},
   "outputs": [
    {
     "name": "stdout",
     "output_type": "stream",
     "text": [
      "panjang list : 7\n"
     ]
    }
   ],
   "source": [
    "nama = [\"Fadil\", \"Akmal\", \"Ronaldo\", \"Amar\", \"Messi\", \"Neymar\", \"Abdi Setiawan\"]\n",
    "print('panjang list :', len(nama))\n"
   ]
  },
  {
   "cell_type": "code",
   "execution_count": 10,
   "id": "3347cdc5",
   "metadata": {},
   "outputs": [
    {
     "name": "stdout",
     "output_type": "stream",
     "text": [
      "['Fadil', 'Akmal', 'Ronaldo', 'Amar', 'Dina', 'Neymar', 'Abdi Setiawan']\n"
     ]
    }
   ],
   "source": [
    "nama = [\"Fadil\", \"Akmal\", \"Ronaldo\", \"Amar\", \"Messi\", \"Neymar\", \"Abdi Setiawan\"]\n",
    "nama[4] = \"Dina\"\n",
    "print(nama)"
   ]
  },
  {
   "cell_type": "code",
   "execution_count": 11,
   "id": "cdd0b57a",
   "metadata": {},
   "outputs": [
    {
     "ename": "SyntaxError",
     "evalue": "unterminated string literal (detected at line 17) (3687602652.py, line 17)",
     "output_type": "error",
     "traceback": [
      "\u001b[1;36m  Cell \u001b[1;32mIn [11], line 17\u001b[1;36m\u001b[0m\n\u001b[1;33m    print (\"-\u001b[0m\n\u001b[1;37m           ^\u001b[0m\n\u001b[1;31mSyntaxError\u001b[0m\u001b[1;31m:\u001b[0m unterminated string literal (detected at line 17)\n"
     ]
    }
   ],
   "source": [
    "# Membuat list kosong untuk menampung hobi\n",
    "hobi = []\n",
    "stop = False\n",
    "i = 0\n",
    "# Mengisi hobi\n",
    "while(not stop):\n",
    "    hobi_baru = input(\"Inputkan hobi yang ke-{}: \".format(i))\n",
    "    hobi.append(hobi_baru)\n",
    "    i += 1\n",
    "    tanya = input(\"Mau isi lagi? (y/t): \")\n",
    "    if(tanya == \"t\"):\n",
    "        stop = True\n",
    "# Cetak Semua Hobi\n",
    "print (\"=\" * 10) \n",
    "print (\"Kamu memiliki {} hobi\".format(len(hobi)))\n",
    "for hb in hobi: \n",
    "    print (\"- \n",
    "    {}\".format(hb))"
   ]
  },
  {
   "cell_type": "code",
   "execution_count": null,
   "id": "cfa8fe69",
   "metadata": {},
   "outputs": [
    {
     "name": "stdout",
     "output_type": "stream",
     "text": [
      "12 adalah bilangan genap\n"
     ]
    }
   ],
   "source": [
    "x = 12\n",
    "if x == 12:\n",
    "    print(\"%d adalah bilangan genap\" % x)\n"
   ]
  },
  {
   "cell_type": "code",
   "execution_count": null,
   "id": "37e79abe",
   "metadata": {},
   "outputs": [
    {
     "name": "stdout",
     "output_type": "stream",
     "text": [
      "Pyt 3 hon \n",
      "Pyt 2 hon \n",
      "Pyt 1 hon \n"
     ]
    }
   ],
   "source": [
    "for i in range(3, 0 , -1):\n",
    "    print(\"Pyt %d hon \" %i)"
   ]
  },
  {
   "cell_type": "code",
   "execution_count": 6,
   "id": "5d4a569a",
   "metadata": {},
   "outputs": [
    {
     "name": "stdout",
     "output_type": "stream",
     "text": [
      "Luasnya adalah 6, ya seperti itulah kira kira\n"
     ]
    }
   ],
   "source": [
    "import math\n",
    "math.pi\n",
    "\n",
    "luas = math.pi * 2\n",
    "print(\"Luasnya adalah %d, ya seperti itulah kira kira\" %luas)"
   ]
  },
  {
   "cell_type": "code",
   "execution_count": 12,
   "id": "dd120eee",
   "metadata": {},
   "outputs": [
    {
     "name": "stdout",
     "output_type": "stream",
     "text": [
      "Python 1\n",
      "Python 2\n",
      "Python 3\n"
     ]
    }
   ],
   "source": [
    "for i in range(1,4):\n",
    "    print(\"Python %d\" %i)"
   ]
  },
  {
   "cell_type": "code",
   "execution_count": 13,
   "id": "93280d27",
   "metadata": {},
   "outputs": [
    {
     "name": "stdout",
     "output_type": "stream",
     "text": [
      "Python 1\n",
      "Python 2\n",
      "Python 3\n",
      "Python 4\n",
      "Python 5\n"
     ]
    }
   ],
   "source": [
    "i = 1\n",
    "while (i<=5):\n",
    "    print(\"Python %d\" %i)\n",
    "    i+=1"
   ]
  },
  {
   "cell_type": "code",
   "execution_count": 21,
   "id": "cc7255ea",
   "metadata": {},
   "outputs": [
    {
     "data": {
      "text/plain": [
       "[5, 10, 15]"
      ]
     },
     "execution_count": 21,
     "metadata": {},
     "output_type": "execute_result"
    }
   ],
   "source": [
    "n = int(input(\"Masukkan angka: \"))\n",
    "list(range(5,n,5))"
   ]
  },
  {
   "cell_type": "code",
   "execution_count": 1,
   "id": "b11b93a0",
   "metadata": {},
   "outputs": [
    {
     "name": "stdout",
     "output_type": "stream",
     "text": [
      "ketika i=0\n",
      "[BARIS 0, KOLOM 0] [BARIS 0, KOLOM 1] [BARIS 0, KOLOM 2] [BARIS 0, KOLOM 3] [BARIS 0, KOLOM 4] \n",
      "ketika i=1\n",
      "[BARIS 1, KOLOM 0] [BARIS 1, KOLOM 1] [BARIS 1, KOLOM 2] [BARIS 1, KOLOM 3] [BARIS 1, KOLOM 4] \n",
      "ketika i=2\n",
      "[BARIS 2, KOLOM 0] [BARIS 2, KOLOM 1] [BARIS 2, KOLOM 2] [BARIS 2, KOLOM 3] [BARIS 2, KOLOM 4] \n",
      "ketika i=3\n",
      "[BARIS 3, KOLOM 0] [BARIS 3, KOLOM 1] [BARIS 3, KOLOM 2] [BARIS 3, KOLOM 3] [BARIS 3, KOLOM 4] \n",
      "ketika i=4\n",
      "[BARIS 4, KOLOM 0] [BARIS 4, KOLOM 1] [BARIS 4, KOLOM 2] [BARIS 4, KOLOM 3] [BARIS 4, KOLOM 4] \n",
      "ketika i=5\n",
      "[BARIS 5, KOLOM 0] [BARIS 5, KOLOM 1] [BARIS 5, KOLOM 2] [BARIS 5, KOLOM 3] [BARIS 5, KOLOM 4] \n"
     ]
    }
   ],
   "source": [
    "import time\n",
    "baris = 5\n",
    "kolom = 4\n",
    "for i in range(0, baris+1):\n",
    "    print(\"ketika i=%d\" %i)\n",
    "    for j in range(0, kolom+1):\n",
    "        print(\"[BARIS %d, KOLOM %d]\" %(i,j),end=\" \")\n",
    "        time.sleep(1)\n",
    "    print()"
   ]
  },
  {
   "cell_type": "code",
   "execution_count": 47,
   "id": "c7dccf8c",
   "metadata": {},
   "outputs": [
    {
     "name": "stdout",
     "output_type": "stream",
     "text": [
      "Alamak\n",
      "Alamak\n",
      "Alamak\n",
      "Alamak\n",
      "Alamak\n",
      "Alamak\n",
      "Alamak\n",
      "Alamak\n"
     ]
    }
   ],
   "source": [
    "def tulis(s, n):\n",
    "    for i in range(-2,n):\n",
    "        print(s)\n",
    "\n",
    "tulis(\"Alamak\", 6)"
   ]
  },
  {
   "cell_type": "code",
   "execution_count": 52,
   "id": "91e9056d",
   "metadata": {},
   "outputs": [
    {
     "data": {
      "text/plain": [
       "30"
      ]
     },
     "execution_count": 52,
     "metadata": {},
     "output_type": "execute_result"
    }
   ],
   "source": [
    "class segiempat:\n",
    "    def __init__(self, p, l):\n",
    "        self.panjang = p\n",
    "        self.lebar = l\n",
    "    def luas(self):\n",
    "        return self.panjang * self.lebar\n",
    "    def keliling(self):\n",
    "        return 2 * (self.panjang + self.lebar)\n",
    "\n",
    "obj = segiempat(9,6)\n",
    "obj.keliling()"
   ]
  },
  {
   "cell_type": "code",
   "execution_count": 60,
   "id": "65fa8db3",
   "metadata": {},
   "outputs": [
    {
     "name": "stdout",
     "output_type": "stream",
     "text": [
      "Nilai x adalah 30\n"
     ]
    }
   ],
   "source": [
    "data = [10,20,30]\n",
    "try:\n",
    "    x = data[int(input(\"Masukkan index keberapa yg ingin anda cari? \"))]\n",
    "except IndexError:\n",
    "    print(\"Tidak ada indeks ke-3 didalam list data\")\n",
    "else:\n",
    "    print(\"Nilai x adalah %d\" %x)"
   ]
  },
  {
   "cell_type": "code",
   "execution_count": 64,
   "id": "d7c90042",
   "metadata": {},
   "outputs": [
    {
     "name": "stdout",
     "output_type": "stream",
     "text": [
      "Nilai x adalah 30\n",
      "Bagian finalisasi dipanggil\n"
     ]
    }
   ],
   "source": [
    "data = [10,20,30]\n",
    "try:\n",
    "    x = data[2]\n",
    "except IndexError:\n",
    "    print(\"Tidak anda indeks ke-2 di dalam list data\")\n",
    "else:\n",
    "    print(\"Nilai x adalah %d\" %x)\n",
    "finally:\n",
    "    print(\"Bagian finalisasi dipanggil\")"
   ]
  },
  {
   "cell_type": "code",
   "execution_count": 67,
   "id": "8c7265fe",
   "metadata": {},
   "outputs": [
    {
     "name": "stdout",
     "output_type": "stream",
     "text": [
      "[10, 50, 30]\n"
     ]
    }
   ],
   "source": [
    "a = [10,20,30]\n",
    "a[1] = 50\n",
    "print(a)"
   ]
  },
  {
   "cell_type": "code",
   "execution_count": 68,
   "id": "dda857cf",
   "metadata": {},
   "outputs": [
    {
     "name": "stdout",
     "output_type": "stream",
     "text": [
      "['kemana', '21e2', 12039]\n"
     ]
    }
   ],
   "source": [
    "array = [\"kemana\", \"21e2\", 12039]\n",
    "print(array)"
   ]
  },
  {
   "cell_type": "code",
   "execution_count": null,
   "id": "f07df2e5",
   "metadata": {},
   "outputs": [],
   "source": [
    "daftarbuku = [\n",
    "    ['454512541','python',700,2012]\n",
    "]"
   ]
  },
  {
   "cell_type": "code",
   "execution_count": 71,
   "id": "cc72f431",
   "metadata": {},
   "outputs": [
    {
     "name": "stdout",
     "output_type": "stream",
     "text": [
      "[10, 20, 30, 50]\n"
     ]
    }
   ],
   "source": [
    "a = [10,20,30]\n",
    "a.append(50)\n",
    "print(a)"
   ]
  },
  {
   "cell_type": "code",
   "execution_count": 75,
   "id": "1908aa29",
   "metadata": {},
   "outputs": [
    {
     "name": "stdout",
     "output_type": "stream",
     "text": [
      "[10, 40, 11, 90, 12, 35]\n"
     ]
    }
   ],
   "source": [
    "a = [10,40,11]\n",
    "b = [90,12,35]\n",
    "a.extend(b)\n",
    "print(a)"
   ]
  },
  {
   "cell_type": "code",
   "execution_count": 72,
   "id": "2f98bb36",
   "metadata": {},
   "outputs": [
    {
     "name": "stdout",
     "output_type": "stream",
     "text": [
      "[10, 50, 20, 30]\n"
     ]
    }
   ],
   "source": [
    "a = [10,20,30]\n",
    "a.insert(1,50)\n",
    "print(a)"
   ]
  },
  {
   "cell_type": "code",
   "execution_count": 76,
   "id": "515bcb28",
   "metadata": {},
   "outputs": [
    {
     "name": "stdout",
     "output_type": "stream",
     "text": [
      "[10, 40, 11, 'H', 'a', 'y', ' ', 'a', 'p', 'a', ' ', 'c', 'i', 'n', 'g', 'c', 'o', 'n', 'g']\n"
     ]
    }
   ],
   "source": [
    "a = [10,40,11]\n",
    "a.extend(\"Hay apa cincong\")\n",
    "print(a)"
   ]
  },
  {
   "cell_type": "code",
   "execution_count": 78,
   "id": "eb8a741a",
   "metadata": {},
   "outputs": [
    {
     "name": "stdout",
     "output_type": "stream",
     "text": [
      "[10, 20, 40]\n"
     ]
    }
   ],
   "source": [
    "a = [10,20,30,40]\n",
    "del a[2]\n",
    "print(a)"
   ]
  },
  {
   "cell_type": "code",
   "execution_count": 80,
   "id": "4cb8679e",
   "metadata": {},
   "outputs": [
    {
     "name": "stdout",
     "output_type": "stream",
     "text": [
      "[10, 30, 40]\n"
     ]
    }
   ],
   "source": [
    "a = [10,20,30,40]\n",
    "a.remove(20)\n",
    "print(a)"
   ]
  },
  {
   "cell_type": "code",
   "execution_count": 82,
   "id": "237fd5df",
   "metadata": {},
   "outputs": [
    {
     "name": "stdout",
     "output_type": "stream",
     "text": [
      "[10, 30, 40]\n"
     ]
    }
   ],
   "source": [
    "a = [10,20,30,40]\n",
    "nilai = a.pop(1)\n",
    "print(a)"
   ]
  },
  {
   "cell_type": "code",
   "execution_count": 83,
   "id": "4c8b50d1",
   "metadata": {},
   "outputs": [
    {
     "name": "stdout",
     "output_type": "stream",
     "text": [
      "[5, 10, 10, 20, 25, 30, 40, 50]\n"
     ]
    }
   ],
   "source": [
    "a = [20,40,30,10,50,10,5,25]\n",
    "b = sorted(a)\n",
    "print(b)"
   ]
  },
  {
   "cell_type": "code",
   "execution_count": 1,
   "id": "0291eafd",
   "metadata": {},
   "outputs": [
    {
     "name": "stdout",
     "output_type": "stream",
     "text": [
      "[88, 89, 93, 94, 94, 95, 96, 96, 97, 103, 103, 104, 106, 107, 108, 111, 112, 112, 113, 113, 117, 117, 118, 119, 120, 120, 124, 125, 125, 125, 127, 127, 132, 134, 135, 136, 138, 139, 139, 142, 143, 148, 155, 155, 156]\n"
     ]
    }
   ],
   "source": [
    "a = [96, 139, 112, 118, 94, 93, 142, 135,\n",
    "136, 127, 88, 94, 132, 125, 119, 117, 107, 111, 143, 148, 127, 125, 125, 120,\n",
    "117, 95, 155, 104, 103, 97, 113, 155,\n",
    "106, 113, 156, 96, 103, 139, 124, 120,\n",
    "108, 112, 134, 138, 89]\n",
    "b = sorted(a)\n",
    "print(b)"
   ]
  },
  {
   "cell_type": "code",
   "execution_count": 85,
   "id": "44cb3fd4",
   "metadata": {},
   "outputs": [
    {
     "name": "stdout",
     "output_type": "stream",
     "text": [
      "[50, 40, 30, 25, 20, 10, 10, 5]\n"
     ]
    }
   ],
   "source": [
    "a = [20,40,30,10,50,10,5,25]\n",
    "b = sorted(a, reverse=True)\n",
    "print(b)"
   ]
  },
  {
   "cell_type": "code",
   "execution_count": 84,
   "id": "f0f2be57",
   "metadata": {},
   "outputs": [
    {
     "name": "stdout",
     "output_type": "stream",
     "text": [
      "[5, 10, 10, 20, 25, 30, 40, 50]\n"
     ]
    }
   ],
   "source": [
    "a = [20,40,30,10,50,10,5,25]\n",
    "a.sort()\n",
    "print(a)"
   ]
  },
  {
   "cell_type": "code",
   "execution_count": 86,
   "id": "57374d73",
   "metadata": {},
   "outputs": [
    {
     "name": "stdout",
     "output_type": "stream",
     "text": [
      "[50, 40, 30, 25, 20, 10, 10, 5]\n"
     ]
    }
   ],
   "source": [
    "a = [20,40,30,10,50,10,5,25]\n",
    "a.sort(reverse=True)\n",
    "print(a)"
   ]
  },
  {
   "cell_type": "code",
   "execution_count": 88,
   "id": "3ea44382",
   "metadata": {},
   "outputs": [
    {
     "name": "stdout",
     "output_type": "stream",
     "text": [
      "[25, 5, 10, 50, 10, 30, 40, 20]\n"
     ]
    }
   ],
   "source": [
    "a = [20,40,30,10,50,10,5,25]\n",
    "a.reverse()\n",
    "print(a)"
   ]
  },
  {
   "cell_type": "code",
   "execution_count": 3,
   "id": "3f27f031",
   "metadata": {},
   "outputs": [
    {
     "name": "stdout",
     "output_type": "stream",
     "text": [
      "[30, 20, 40, 10, 50]\n",
      "[50, 10, 40, 20, 30]\n"
     ]
    }
   ],
   "source": [
    "def reverse(a):\n",
    "    temp = []\n",
    "    for element in n[::-1]:\n",
    "        temp.append(element)\n",
    "    return temp\n",
    "a = [50,10,40,20,30]\n",
    "b = reverse(a)\n",
    "print(b)\n",
    "print(a)"
   ]
  },
  {
   "cell_type": "code",
   "execution_count": 5,
   "id": "06e0494a",
   "metadata": {},
   "outputs": [
    {
     "name": "stdout",
     "output_type": "stream",
     "text": [
      "[10, 94, 33, 11, 31, 21, 20]\n"
     ]
    }
   ],
   "source": [
    "def reverseList(lst):\n",
    "    i = 0\n",
    "    j = len(lst)-1\n",
    "    while (j>1):\n",
    "        temp = lst[i]\n",
    "        lst[i] = lst[j]\n",
    "        lst[j] = temp\n",
    "        i += 1\n",
    "        j -= 1\n",
    "\n",
    "b = [20, 21, 33, 11, 31, 94, 10]\n",
    "reverseList(b)\n",
    "print(b)"
   ]
  },
  {
   "cell_type": "code",
   "execution_count": 8,
   "id": "0af5e91b",
   "metadata": {},
   "outputs": [
    {
     "data": {
      "text/plain": [
       "52"
      ]
     },
     "execution_count": 8,
     "metadata": {},
     "output_type": "execute_result"
    }
   ],
   "source": [
    "a = [321, 3123, 32131, 33321, 333, 3123,32131,312312,3132,63456,52]\n",
    "min(a)"
   ]
  },
  {
   "cell_type": "code",
   "execution_count": 10,
   "id": "831d0abc",
   "metadata": {},
   "outputs": [
    {
     "data": {
      "text/plain": [
       "4"
      ]
     },
     "execution_count": 10,
     "metadata": {},
     "output_type": "execute_result"
    }
   ],
   "source": [
    "a = [312, 3213,2132,311,414,122,4124,142,422,44,1241,4,21,4,21,4214]\n",
    "min(a)"
   ]
  },
  {
   "cell_type": "code",
   "execution_count": 12,
   "id": "65a659ed",
   "metadata": {},
   "outputs": [
    {
     "data": {
      "text/plain": [
       "1"
      ]
     },
     "execution_count": 12,
     "metadata": {},
     "output_type": "execute_result"
    }
   ],
   "source": [
    "def minimumm(lst):\n",
    "    try:\n",
    "        return min(lst)\n",
    "    except ValueError:\n",
    "        print(\"Data tidak tersedia\")\n",
    "\n",
    "a = [123,213,22,3213,2,2223,12,1,23]\n",
    "minimumm(a)"
   ]
  },
  {
   "cell_type": "code",
   "execution_count": 15,
   "id": "e189954e",
   "metadata": {},
   "outputs": [
    {
     "name": "stdout",
     "output_type": "stream",
     "text": [
      "2200016103 Abdi Setiawan B\n"
     ]
    }
   ],
   "source": [
    "mahasiswa = [2200016103,\"Abdi Setiawan\", \"B\"]\n",
    "nim, nama, kelas = mahasiswa\n",
    "print(nim, nama, kelas)"
   ]
  },
  {
   "cell_type": "code",
   "execution_count": 31,
   "id": "8ce966e9",
   "metadata": {},
   "outputs": [
    {
     "name": "stdout",
     "output_type": "stream",
     "text": [
      "2200016103 Abdi Setiawan 082389105801\n",
      "sumsel\n"
     ]
    }
   ],
   "source": [
    "mahasiswa = [2200016103,\"Abdi Setiawan\",\"082389105801\",\"sumsel\", \"B\"]\n",
    "*nim, nama, kelas = mahasiswa\n",
    "print(*nim)\n",
    "print(nama)"
   ]
  },
  {
   "cell_type": "code",
   "execution_count": 45,
   "id": "edd0be75",
   "metadata": {},
   "outputs": [
    {
     "ename": "TypeError",
     "evalue": "'list' object is not callable",
     "output_type": "error",
     "traceback": [
      "\u001b[1;31m---------------------------------------------------------------------------\u001b[0m",
      "\u001b[1;31mTypeError\u001b[0m                                 Traceback (most recent call last)",
      "Cell \u001b[1;32mIn [45], line 3\u001b[0m\n\u001b[0;32m      1\u001b[0m a \u001b[39m=\u001b[39m [\u001b[39m10\u001b[39m, \u001b[39m20\u001b[39m, \u001b[39m30\u001b[39m, \u001b[39m40\u001b[39m, \u001b[39m50\u001b[39m, \u001b[39m60\u001b[39m]\n\u001b[0;32m      2\u001b[0m b \u001b[39m=\u001b[39m a[:\u001b[39m2\u001b[39m]\n\u001b[1;32m----> 3\u001b[0m \u001b[39mprint\u001b[39;49m(b)\n",
      "\u001b[1;31mTypeError\u001b[0m: 'list' object is not callable"
     ]
    }
   ],
   "source": [
    "a = [10, 20, 30, 40, 50, 60]\n",
    "b = a[:2]\n",
    "print(b)"
   ]
  },
  {
   "cell_type": "code",
   "execution_count": 48,
   "id": "b54feb35",
   "metadata": {},
   "outputs": [
    {
     "ename": "TypeError",
     "evalue": "'list' object is not callable",
     "output_type": "error",
     "traceback": [
      "\u001b[1;31m---------------------------------------------------------------------------\u001b[0m",
      "\u001b[1;31mTypeError\u001b[0m                                 Traceback (most recent call last)",
      "Cell \u001b[1;32mIn [48], line 4\u001b[0m\n\u001b[0;32m      1\u001b[0m t \u001b[39m=\u001b[39m (\u001b[39m2132\u001b[39m, \u001b[39m321\u001b[39m,\u001b[39m441\u001b[39m, \u001b[39m4441\u001b[39m, \u001b[39m41321\u001b[39m, \u001b[39m41443\u001b[39m)\n\u001b[0;32m      3\u001b[0m minimum \u001b[39m=\u001b[39m \u001b[39mmin\u001b[39m(t)\n\u001b[1;32m----> 4\u001b[0m \u001b[39mprint\u001b[39;49m(\u001b[39m\"\u001b[39;49m\u001b[39mNilai terkecil berada di indeks \u001b[39;49m\u001b[39m%d\u001b[39;49;00m\u001b[39m, dan memiliki nilai \u001b[39;49m\u001b[39m%d\u001b[39;49;00m\u001b[39m\"\u001b[39;49m \u001b[39m%\u001b[39;49m (minimum, t\u001b[39m.\u001b[39;49mindex(minimum)))\n",
      "\u001b[1;31mTypeError\u001b[0m: 'list' object is not callable"
     ]
    }
   ],
   "source": [
    "t = (2132, 321,441, 4441, 41321, 41443)\n",
    "\n",
    "minimum = min(t)\n",
    "print(\"Nilai terkecil berada di indeks %d, dan memiliki nilai %d\" % (minimum, t.index(minimum)))"
   ]
  },
  {
   "cell_type": "code",
   "execution_count": 13,
   "id": "692cfd61",
   "metadata": {},
   "outputs": [
    {
     "name": "stdout",
     "output_type": "stream",
     "text": [
      "\n",
      "1 \n",
      "1 2 \n",
      "1 2 3 \n",
      "1 2 3 4 \n",
      "1 2 3 4 5 \n",
      "1 2 3 4 5 6 \n"
     ]
    }
   ],
   "source": [
    "N = int(input(\"Masukkan berapa baris yang anda inginkan: \"))\n",
    "\n",
    "for i in range(N+1):\n",
    "    for j in range(0, i):\n",
    "        print((1 + j),end=\" \")\n",
    "    print()"
   ]
  },
  {
   "cell_type": "code",
   "execution_count": 33,
   "id": "12011272",
   "metadata": {},
   "outputs": [
    {
     "name": "stdout",
     "output_type": "stream",
     "text": [
      "\n",
      "1 \n",
      "2 2 \n",
      "3 3 3 \n",
      "4 4 4 4 \n",
      "5 5 5 5 5 \n"
     ]
    }
   ],
   "source": [
    "N = int(input(\"Masukkan berapa baris yang anda inginkan: \"))\n",
    "\n",
    "for i in range(N+1):\n",
    "    for j in range(0, i):\n",
    "        print((i), end=\" \")\n",
    "    print()"
   ]
  },
  {
   "cell_type": "code",
   "execution_count": 47,
   "id": "1f45cd22",
   "metadata": {},
   "outputs": [
    {
     "name": "stdout",
     "output_type": "stream",
     "text": [
      "Anda memilih baju Kick Denim dengan ukuran XL seharga 130000\n"
     ]
    }
   ],
   "source": [
    "kode_baju = int(input(\"Masukkan kode baju (1-5): \"))\n",
    "ukuran_baju = input(\"Masukkan ukuran baju (S/M): \")\n",
    "\n",
    "harga_baju = 0\n",
    "merk_baju = \"\"\n",
    "\n",
    "for i in range(1,6):\n",
    "    if kode_baju == i:\n",
    "        if i == 1:\n",
    "            merk_baju = \"IMP\"\n",
    "            if ukuran_baju == \"S\":\n",
    "                harga_baju = 200000\n",
    "            elif ukuran_baju == \"M\":\n",
    "                harga_baju = 220000\n",
    "            else:\n",
    "                harga_baju = 250000\n",
    "        elif i == 2:\n",
    "            merk_baju = \"Prada\"\n",
    "            if ukuran_baju == \"S\":\n",
    "                harga_baju = 150000\n",
    "            elif ukuran_baju == \"M\":\n",
    "                harga_baju = 160000\n",
    "            else:\n",
    "                harga_baju = 170000\n",
    "        elif i == 3:\n",
    "            merk_baju = \"Gucci\"\n",
    "            if ukuran_baju == \"S\":\n",
    "                harga_baju = 200000\n",
    "            elif ukuran_baju == \"M\":\n",
    "                harga_baju = 200000\n",
    "            else:\n",
    "                harga_baju = 200000\n",
    "        elif i == 4:\n",
    "            merk_baju = \"Louis Vuitton\"\n",
    "            if ukuran_baju == \"S\":\n",
    "                harga_baju = 300000\n",
    "            elif ukuran_baju == \"M\":\n",
    "                harga_baju = 300000\n",
    "            else:\n",
    "                harga_baju = 350000\n",
    "        elif i == 5:\n",
    "            merk_baju = \"Kick Denim\"\n",
    "            if ukuran_baju == \"S\":\n",
    "                harga_baju = 100000\n",
    "            elif ukuran_baju == \"M\":\n",
    "                harga_baju = 120000\n",
    "            else:\n",
    "                harga_baju = 130000\n",
    "                \n",
    "if harga_baju == 0:\n",
    "    print(\"Kode baju tidak ditemukan!\")\n",
    "else:\n",
    "    print(\"Anda memilih baju\", merk_baju, \"dengan ukuran\", ukuran_baju, \"seharga\", harga_baju)"
   ]
  }
 ],
 "metadata": {
  "kernelspec": {
   "display_name": "Python 3",
   "language": "python",
   "name": "python3"
  },
  "language_info": {
   "codemirror_mode": {
    "name": "ipython",
    "version": 3
   },
   "file_extension": ".py",
   "mimetype": "text/x-python",
   "name": "python",
   "nbconvert_exporter": "python",
   "pygments_lexer": "ipython3",
   "version": "3.10.10"
  },
  "vscode": {
   "interpreter": {
    "hash": "c27ce23a1d2c8f080c8209581e1f953341a0550457dd781ca8fd59169510bd48"
   }
  }
 },
 "nbformat": 4,
 "nbformat_minor": 5
}
